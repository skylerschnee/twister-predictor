{
 "cells": [
  {
   "cell_type": "code",
   "execution_count": 1,
   "id": "52621d76",
   "metadata": {},
   "outputs": [],
   "source": [
    "import numpy as np\n",
    "import pandas as pd\n",
    "\n",
    "import wrangle as w\n",
    "#import explore as e\n",
    "#import model as m\n",
    "import warnings \n",
    "warnings.filterwarnings('ignore')\n",
    "import matplotlib.pyplot as plt\n",
    "import seaborn as sns\n",
    "plt.rc('figure', figsize=(13, 7))\n",
    "plt.rc('font', size=16)"
   ]
  },
  {
   "cell_type": "markdown",
   "id": "061aa2b8",
   "metadata": {},
   "source": [
    "# Project Overview:\n",
    "### Advancement in tornado casualty limiting technologies has made significant progress. These advancements include imporoved warning systems, updated building codes, public education, research, and community response. But how much are they helping?\n",
    "\n",
    "### Following the Data Science pipeline, we will discover if these advancements have made an effect on casualties due to tornadoes."
   ]
  },
  {
   "cell_type": "markdown",
   "id": "9271719e",
   "metadata": {},
   "source": [
    "# Goals:\n",
    "\n",
    "* Acquire the data\n",
    "* Prepare the data \n",
    "* Explore the data to find drivers of our target variable (casualties)\n",
    "* Build time-series models to forecast drivers of caualties\n",
    "* Validate, and then test our best model\n",
    "* Deliver findings to a group of fellow data scientists"
   ]
  },
  {
   "cell_type": "markdown",
   "id": "32be4db3",
   "metadata": {},
   "source": [
    "# Importing and Preparing Data\n",
    "\n",
    "* data was originally aquired from https://www.kaggle.com/datasets/danbraswell/us-tornado-dataset-1950-2021\n",
    "* the dataframe contains 67558 rows and 12\n",
    "* zero rows were removed in cleaning\n",
    "* 3 redundant columns were removed\n",
    "* 2 were added, casualties and cas_per_mile\n",
    "* columns renamed for readability"
   ]
  },
  {
   "cell_type": "code",
   "execution_count": 2,
   "id": "e6f53c1b",
   "metadata": {
    "scrolled": true
   },
   "outputs": [],
   "source": [
    "df, train, test = w.wrangle_tornado_data()"
   ]
  },
  {
   "cell_type": "markdown",
   "id": "6e8f9380",
   "metadata": {},
   "source": [
    "### A look at the data:"
   ]
  },
  {
   "cell_type": "code",
   "execution_count": 3,
   "id": "a1b20e4d",
   "metadata": {
    "scrolled": true
   },
   "outputs": [
    {
     "data": {
      "text/html": [
       "<div>\n",
       "<style scoped>\n",
       "    .dataframe tbody tr th:only-of-type {\n",
       "        vertical-align: middle;\n",
       "    }\n",
       "\n",
       "    .dataframe tbody tr th {\n",
       "        vertical-align: top;\n",
       "    }\n",
       "\n",
       "    .dataframe thead th {\n",
       "        text-align: right;\n",
       "    }\n",
       "</style>\n",
       "<table border=\"1\" class=\"dataframe\">\n",
       "  <thead>\n",
       "    <tr style=\"text-align: right;\">\n",
       "      <th></th>\n",
       "      <th>state</th>\n",
       "      <th>ef</th>\n",
       "      <th>injuries</th>\n",
       "      <th>fatalities</th>\n",
       "      <th>s_lat</th>\n",
       "      <th>s_lon</th>\n",
       "      <th>e_lat</th>\n",
       "      <th>e_lon</th>\n",
       "      <th>length</th>\n",
       "      <th>width</th>\n",
       "      <th>casualties</th>\n",
       "      <th>cas_per_mile</th>\n",
       "    </tr>\n",
       "    <tr>\n",
       "      <th>date</th>\n",
       "      <th></th>\n",
       "      <th></th>\n",
       "      <th></th>\n",
       "      <th></th>\n",
       "      <th></th>\n",
       "      <th></th>\n",
       "      <th></th>\n",
       "      <th></th>\n",
       "      <th></th>\n",
       "      <th></th>\n",
       "      <th></th>\n",
       "      <th></th>\n",
       "    </tr>\n",
       "  </thead>\n",
       "  <tbody>\n",
       "    <tr>\n",
       "      <th>1950-01-03</th>\n",
       "      <td>IL</td>\n",
       "      <td>3</td>\n",
       "      <td>3</td>\n",
       "      <td>0</td>\n",
       "      <td>39.10</td>\n",
       "      <td>-89.30</td>\n",
       "      <td>39.12</td>\n",
       "      <td>-89.23</td>\n",
       "      <td>3.6</td>\n",
       "      <td>130</td>\n",
       "      <td>3</td>\n",
       "      <td>0.83</td>\n",
       "    </tr>\n",
       "    <tr>\n",
       "      <th>1950-01-03</th>\n",
       "      <td>MO</td>\n",
       "      <td>3</td>\n",
       "      <td>3</td>\n",
       "      <td>0</td>\n",
       "      <td>38.77</td>\n",
       "      <td>-90.22</td>\n",
       "      <td>38.83</td>\n",
       "      <td>-90.03</td>\n",
       "      <td>9.5</td>\n",
       "      <td>150</td>\n",
       "      <td>3</td>\n",
       "      <td>0.32</td>\n",
       "    </tr>\n",
       "    <tr>\n",
       "      <th>1950-01-03</th>\n",
       "      <td>OH</td>\n",
       "      <td>1</td>\n",
       "      <td>1</td>\n",
       "      <td>0</td>\n",
       "      <td>40.88</td>\n",
       "      <td>-84.58</td>\n",
       "      <td>0.00</td>\n",
       "      <td>0.00</td>\n",
       "      <td>0.1</td>\n",
       "      <td>10</td>\n",
       "      <td>1</td>\n",
       "      <td>10.00</td>\n",
       "    </tr>\n",
       "    <tr>\n",
       "      <th>1950-01-13</th>\n",
       "      <td>AR</td>\n",
       "      <td>3</td>\n",
       "      <td>1</td>\n",
       "      <td>1</td>\n",
       "      <td>34.40</td>\n",
       "      <td>-94.37</td>\n",
       "      <td>0.00</td>\n",
       "      <td>0.00</td>\n",
       "      <td>0.6</td>\n",
       "      <td>17</td>\n",
       "      <td>2</td>\n",
       "      <td>3.33</td>\n",
       "    </tr>\n",
       "    <tr>\n",
       "      <th>1950-01-25</th>\n",
       "      <td>IL</td>\n",
       "      <td>2</td>\n",
       "      <td>0</td>\n",
       "      <td>0</td>\n",
       "      <td>41.17</td>\n",
       "      <td>-87.33</td>\n",
       "      <td>0.00</td>\n",
       "      <td>0.00</td>\n",
       "      <td>0.1</td>\n",
       "      <td>100</td>\n",
       "      <td>0</td>\n",
       "      <td>0.00</td>\n",
       "    </tr>\n",
       "  </tbody>\n",
       "</table>\n",
       "</div>"
      ],
      "text/plain": [
       "           state  ef  injuries  fatalities  s_lat  s_lon  e_lat  e_lon  \\\n",
       "date                                                                     \n",
       "1950-01-03    IL   3         3           0  39.10 -89.30  39.12 -89.23   \n",
       "1950-01-03    MO   3         3           0  38.77 -90.22  38.83 -90.03   \n",
       "1950-01-03    OH   1         1           0  40.88 -84.58   0.00   0.00   \n",
       "1950-01-13    AR   3         1           1  34.40 -94.37   0.00   0.00   \n",
       "1950-01-25    IL   2         0           0  41.17 -87.33   0.00   0.00   \n",
       "\n",
       "            length  width  casualties  cas_per_mile  \n",
       "date                                                 \n",
       "1950-01-03     3.6    130           3          0.83  \n",
       "1950-01-03     9.5    150           3          0.32  \n",
       "1950-01-03     0.1     10           1         10.00  \n",
       "1950-01-13     0.6     17           2          3.33  \n",
       "1950-01-25     0.1    100           0          0.00  "
      ]
     },
     "execution_count": 3,
     "metadata": {},
     "output_type": "execute_result"
    }
   ],
   "source": [
    "train.head()"
   ]
  },
  {
   "cell_type": "code",
   "execution_count": 4,
   "id": "a1818917",
   "metadata": {},
   "outputs": [
    {
     "data": {
      "text/plain": [
       "(54046, 12)"
      ]
     },
     "execution_count": 4,
     "metadata": {},
     "output_type": "execute_result"
    }
   ],
   "source": [
    "train.shape"
   ]
  },
  {
   "cell_type": "markdown",
   "id": "a2ccba1d",
   "metadata": {},
   "source": [
    "## Data Dictionary:\n",
    "\n",
    "| Feature | Description |\n",
    "| ------ | ----|\n",
    "| state | U.S. State that the tornado touched-down in|\n",
    "| ef | The Enhanced Fujita Rating of the tornado|\n",
    "| injuries | Number of injuries do to the the tornado |\n",
    "| fatalities | The amount of fatilities due to the tornado |\n",
    "| s_lat | The latitude in decimal degrees of touchdown |\n",
    "| s_lon | The longitude in decimal degrees of touchdown |\n",
    "| e_lat | The latitude in decimal degrees of dissipation |\n",
    "| e_lon | The longitude in decimal degrees of dissipation |\n",
    "| length | The length of track in miles |\n",
    "| width | The width of the tornado track in yards |\n",
    "| casualties | The total of number of casualties (injuries + fatalities) |\n",
    "| cas_per_mile | The total of number of casualties per mile of tornado travel |"
   ]
  },
  {
   "cell_type": "markdown",
   "id": "1a76e716",
   "metadata": {},
   "source": [
    "## The Enhanced Fujita Scale (EF) Table:\n",
    "\n",
    "\n",
    "| Rating | Wind Speed | Damage               |\n",
    "|--------|-----------|---------------------|\n",
    "| EF0    | 65–85 mph | Light damage         |\n",
    "| EF1    | 86–110 mph| Moderate damage      |\n",
    "| EF2    | 111–135 mph| Considerable damage |\n",
    "| EF3    | 136–165 mph| Severe damage        |\n",
    "| EF4    | 166–200 mph| Devastating damage   |\n",
    "| EF5    | >200 mph  | Incredible damage    |"
   ]
  },
  {
   "cell_type": "markdown",
   "id": "37f8ef1f",
   "metadata": {},
   "source": [
    "# Exploration"
   ]
  },
  {
   "cell_type": "code",
   "execution_count": 5,
   "id": "1e61bf55",
   "metadata": {},
   "outputs": [
    {
     "data": {
      "text/html": [
       "<div>\n",
       "<style scoped>\n",
       "    .dataframe tbody tr th:only-of-type {\n",
       "        vertical-align: middle;\n",
       "    }\n",
       "\n",
       "    .dataframe tbody tr th {\n",
       "        vertical-align: top;\n",
       "    }\n",
       "\n",
       "    .dataframe thead th {\n",
       "        text-align: right;\n",
       "    }\n",
       "</style>\n",
       "<table border=\"1\" class=\"dataframe\">\n",
       "  <thead>\n",
       "    <tr style=\"text-align: right;\">\n",
       "      <th></th>\n",
       "      <th>injuries</th>\n",
       "      <th>fatalities</th>\n",
       "      <th>length</th>\n",
       "      <th>width</th>\n",
       "      <th>casualties</th>\n",
       "      <th>cas_per_mile</th>\n",
       "    </tr>\n",
       "    <tr>\n",
       "      <th>date</th>\n",
       "      <th></th>\n",
       "      <th></th>\n",
       "      <th></th>\n",
       "      <th></th>\n",
       "      <th></th>\n",
       "      <th></th>\n",
       "    </tr>\n",
       "  </thead>\n",
       "  <tbody>\n",
       "    <tr>\n",
       "      <th>1950-12-31</th>\n",
       "      <td>659</td>\n",
       "      <td>70</td>\n",
       "      <td>6.414925</td>\n",
       "      <td>128.184080</td>\n",
       "      <td>729</td>\n",
       "      <td>1.795871</td>\n",
       "    </tr>\n",
       "    <tr>\n",
       "      <th>1951-12-31</th>\n",
       "      <td>524</td>\n",
       "      <td>34</td>\n",
       "      <td>4.640000</td>\n",
       "      <td>111.026923</td>\n",
       "      <td>558</td>\n",
       "      <td>2.654192</td>\n",
       "    </tr>\n",
       "    <tr>\n",
       "      <th>1952-12-31</th>\n",
       "      <td>1915</td>\n",
       "      <td>230</td>\n",
       "      <td>6.921667</td>\n",
       "      <td>159.141667</td>\n",
       "      <td>2145</td>\n",
       "      <td>12.367000</td>\n",
       "    </tr>\n",
       "    <tr>\n",
       "      <th>1953-12-31</th>\n",
       "      <td>5131</td>\n",
       "      <td>523</td>\n",
       "      <td>9.164133</td>\n",
       "      <td>144.836105</td>\n",
       "      <td>5654</td>\n",
       "      <td>3.294252</td>\n",
       "    </tr>\n",
       "    <tr>\n",
       "      <th>1954-12-31</th>\n",
       "      <td>715</td>\n",
       "      <td>36</td>\n",
       "      <td>5.926545</td>\n",
       "      <td>128.107273</td>\n",
       "      <td>751</td>\n",
       "      <td>0.973436</td>\n",
       "    </tr>\n",
       "  </tbody>\n",
       "</table>\n",
       "</div>"
      ],
      "text/plain": [
       "            injuries  fatalities    length       width  casualties  \\\n",
       "date                                                                 \n",
       "1950-12-31       659          70  6.414925  128.184080         729   \n",
       "1951-12-31       524          34  4.640000  111.026923         558   \n",
       "1952-12-31      1915         230  6.921667  159.141667        2145   \n",
       "1953-12-31      5131         523  9.164133  144.836105        5654   \n",
       "1954-12-31       715          36  5.926545  128.107273         751   \n",
       "\n",
       "            cas_per_mile  \n",
       "date                      \n",
       "1950-12-31      1.795871  \n",
       "1951-12-31      2.654192  \n",
       "1952-12-31     12.367000  \n",
       "1953-12-31      3.294252  \n",
       "1954-12-31      0.973436  "
      ]
     },
     "execution_count": 5,
     "metadata": {},
     "output_type": "execute_result"
    }
   ],
   "source": [
    "df_by_year = w.get_df_by_year(df)\n",
    "df_by_year.head()"
   ]
  },
  {
   "cell_type": "code",
   "execution_count": 7,
   "id": "7640dc09",
   "metadata": {},
   "outputs": [],
   "source": [
    "train_by_year, test_by_year = w.split_data(df, train_size=0.8)"
   ]
  },
  {
   "cell_type": "code",
   "execution_count": 16,
   "id": "b615a5f0",
   "metadata": {},
   "outputs": [
    {
     "data": {
      "text/plain": [
       "[<matplotlib.lines.Line2D at 0x13faf7e20>]"
      ]
     },
     "execution_count": 16,
     "metadata": {},
     "output_type": "execute_result"
    },
    {
     "data": {
      "image/png": "[encoded data removed]",
      "text/plain": [
       "<Figure size 1300x700 with 1 Axes>"
      ]
     },
     "metadata": {},
     "output_type": "display_data"
    }
   ],
   "source": [
    "plt.plot(train_by_year.index, train_by_year.casualties)\n",
    "plt.plot(test_by_year.index, test_by_year.casualties)"
   ]
  },
  {
   "cell_type": "markdown",
   "id": "be0a08dc",
   "metadata": {},
   "source": [
    "Visualized here is our data split of the target variable, casualties. We can see that since 1950, regardless of all the advancement, we still have relatitley consistant casualty spikes with a slight lull between 1980 and 2011. "
   ]
  },
  {
   "cell_type": "markdown",
   "id": "8eed0c7b",
   "metadata": {},
   "source": [
    "### Exploration Question 1:\n",
    "\n",
    "\n",
    "\n",
    "H0: \n",
    "\n",
    "Ha: "
   ]
  },
  {
   "cell_type": "markdown",
   "id": "82d14ef4",
   "metadata": {},
   "source": [
    "**Takeaways**\n",
    "* \n",
    "* "
   ]
  },
  {
   "cell_type": "markdown",
   "id": "4268f2a0",
   "metadata": {},
   "source": [
    "### Exploration Question 2:\n",
    "\n",
    "\n",
    "H0: \n",
    "\n",
    "Ha: "
   ]
  },
  {
   "cell_type": "markdown",
   "id": "347244d1",
   "metadata": {},
   "source": [
    "**Takeaways**\n",
    "* \n",
    "* "
   ]
  },
  {
   "cell_type": "markdown",
   "id": "ecc1e068",
   "metadata": {},
   "source": [
    "### Exploration Question 3:\n",
    "\n",
    "\n",
    " \n",
    "H0: \n",
    "\n",
    "Ha: "
   ]
  },
  {
   "cell_type": "markdown",
   "id": "d7a0bafc",
   "metadata": {},
   "source": [
    "**Takeaways**\n",
    "* \n",
    "* "
   ]
  },
  {
   "cell_type": "markdown",
   "id": "c0f1fa6c",
   "metadata": {},
   "source": [
    "### Exploration Question 4:\n",
    "\n",
    "\n",
    "\n",
    "H0:\n",
    "\n",
    "Ha: "
   ]
  },
  {
   "cell_type": "markdown",
   "id": "c9aac717",
   "metadata": {},
   "source": [
    "**Takeaways**\n",
    "* \n",
    "* "
   ]
  },
  {
   "cell_type": "markdown",
   "id": "6cfe125c",
   "metadata": {},
   "source": [
    "### Exploration Takeaways:\n",
    "\n",
    "* \n",
    "* \n",
    "* "
   ]
  },
  {
   "cell_type": "markdown",
   "id": "6b3f7cba",
   "metadata": {},
   "source": [
    "# Modeling\n",
    "* Additional preperation was required for modeling:\n",
    "    * \n",
    "    * \n",
    "    * "
   ]
  },
  {
   "cell_type": "markdown",
   "id": "f94c95b2",
   "metadata": {},
   "source": [
    "### Baseline"
   ]
  },
  {
   "cell_type": "markdown",
   "id": "3b8b3e3a",
   "metadata": {
    "scrolled": true
   },
   "source": [
    "## Test"
   ]
  },
  {
   "cell_type": "markdown",
   "id": "0705522b",
   "metadata": {},
   "source": [
    "## Conclusion\n",
    "* \n",
    "\n",
    "\n",
    "* "
   ]
  },
  {
   "cell_type": "markdown",
   "id": "2677555f",
   "metadata": {},
   "source": [
    "## Recommendations:\n",
    "\n",
    "* "
   ]
  },
  {
   "cell_type": "markdown",
   "id": "552f494a",
   "metadata": {},
   "source": [
    "## Next Steps:\n",
    "\n",
    "* "
   ]
  },
  {
   "cell_type": "code",
   "execution_count": null,
   "id": "84c1ce81",
   "metadata": {},
   "outputs": [],
   "source": []
  }
 ],
 "metadata": {
  "kernelspec": {
   "display_name": "Python 3 (ipykernel)",
   "language": "python",
   "name": "python3"
  },
  "language_info": {
   "codemirror_mode": {
    "name": "ipython",
    "version": 3
   },
   "file_extension": ".py",
   "mimetype": "text/x-python",
   "name": "python",
   "nbconvert_exporter": "python",
   "pygments_lexer": "ipython3",
   "version": "3.9.13"
  }
 },
 "nbformat": 4,
 "nbformat_minor": 5
}
